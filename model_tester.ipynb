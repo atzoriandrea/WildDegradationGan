{
 "cells": [
  {
   "cell_type": "code",
   "execution_count": 5,
   "metadata": {
    "collapsed": true,
    "pycharm": {
     "name": "#%%\n"
    }
   },
   "outputs": [],
   "source": [
    "import torch\n",
    "from degradation_model import High2Low\n",
    "from discriminator import Discriminator\n",
    "from load_data import test_set_data, Test_Data\n",
    "from torch.utils.data import DataLoader\n",
    "import numpy as np\n",
    "import cv2"
   ]
  },
  {
   "cell_type": "code",
   "execution_count": 6,
   "outputs": [],
   "source": [
    "test_save = \"intermid_results\"\n",
    "ep = 1\n",
    "w = torch.load(\"intermid_results/models/model_epoch_001.pth\")\n",
    "G_h2l = High2Low().cuda()\n",
    "G_h2l.load_state_dict(w['G_h2l'])\n",
    "D_h2l = Discriminator(16).cuda()\n",
    "G_h2l.eval()\n",
    "D_h2l.eval()\n",
    "D_h2l.load_state_dict(w['D_h2l'])\n",
    "test_data = test_set_data(Test_Data)\n",
    "test_loader = DataLoader(dataset=test_data, batch_size=1, shuffle=False)"
   ],
   "metadata": {
    "collapsed": false,
    "pycharm": {
     "name": "#%%\n"
    }
   }
  },
  {
   "cell_type": "code",
   "execution_count": 9,
   "outputs": [],
   "source": [
    "for i, sample in enumerate(test_loader):\n",
    "    high_temp = sample[\"hr\"].numpy()\n",
    "    high = torch.from_numpy(np.ascontiguousarray(high_temp[:, ::-1, :, :])).cuda()\n",
    "    with torch.no_grad():\n",
    "        high_gen = G_h2l(high)\n",
    "    np_gen = high_gen.detach().cpu().numpy().transpose(0, 2, 3, 1).squeeze(0)\n",
    "    np_gen = (np_gen - np_gen.min()) / (np_gen.max() - np_gen.min())\n",
    "    np_gen = (np_gen * 255).astype(np.uint8)\n",
    "    path = \"{}/imgs/{}_{}_sr.png\".format(test_save, ep, i + 1)\n",
    "    cv2.imwrite(path, np_gen)"
   ],
   "metadata": {
    "collapsed": false,
    "pycharm": {
     "name": "#%%\n"
    }
   }
  }
 ],
 "metadata": {
  "kernelspec": {
   "display_name": "Python 3",
   "language": "python",
   "name": "python3"
  },
  "language_info": {
   "codemirror_mode": {
    "name": "ipython",
    "version": 2
   },
   "file_extension": ".py",
   "mimetype": "text/x-python",
   "name": "python",
   "nbconvert_exporter": "python",
   "pygments_lexer": "ipython2",
   "version": "2.7.6"
  }
 },
 "nbformat": 4,
 "nbformat_minor": 0
}